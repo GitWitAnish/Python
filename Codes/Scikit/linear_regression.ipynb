{
 "cells": [
  {
   "cell_type": "markdown",
   "id": "0b5f0bc1-838f-4f63-81fe-1087bc800ecc",
   "metadata": {},
   "source": [
    "# Utilize scikit-learn to implement linear regression using gradient descent\n"
   ]
  },
  {
   "cell_type": "markdown",
   "id": "b0595c04-7e21-4e6a-9143-9704cda28d03",
   "metadata": {},
   "source": [
    "### Tools"
   ]
  },
  {
   "cell_type": "code",
   "execution_count": 1,
   "id": "0f91124e-2129-4e6a-92f8-3421c10b7e56",
   "metadata": {},
   "outputs": [],
   "source": [
    "import numpy as np\n",
    "import matplotlib.pyplot as plt\n",
    "from sklearn.linear_model import SGDRegressor\n",
    "from sklearn.preprocessing import StandardScaler\n",
    "np.set_printoptions(precision=2)"
   ]
  },
  {
   "cell_type": "markdown",
   "id": "3dc690a3-94f9-4dd2-ae67-34f04834a5c2",
   "metadata": {},
   "source": [
    "### loading data(let us suppose we have imported house data)"
   ]
  },
  {
   "cell_type": "code",
   "execution_count": null,
   "id": "b0f079e0-d6ec-40fb-b81f-6f17b0af70b2",
   "metadata": {},
   "outputs": [],
   "source": [
    "X_train, y_train = load_house_data()\n",
    "X_features = ['size(sqft)','bedrooms','floors','age']"
   ]
  },
  {
   "cell_type": "markdown",
   "id": "42850352-9bdf-405c-87a9-28701d5fbcfc",
   "metadata": {},
   "source": [
    "### scale/normalize the training data"
   ]
  },
  {
   "cell_type": "code",
   "execution_count": null,
   "id": "feacfe07-798f-4b9c-a2ad-cf555a0bd648",
   "metadata": {},
   "outputs": [],
   "source": [
    "scaler = StandardScaler()\n",
    "X_norm = scaler.fit_transform(X_train)\n",
    "print(f\"Peak to Peak range by column in Raw        X:{np.ptp(X_train,axis=0)}\")   \n",
    "print(f\"Peak to Peak range by column in Normalized X:{np.ptp(X_norm,axis=0)}\")"
   ]
  },
  {
   "cell_type": "markdown",
   "id": "ce91d58f-ffe5-4268-adb5-b4e44094a2aa",
   "metadata": {},
   "source": [
    "### create and fit the regression model\n"
   ]
  },
  {
   "cell_type": "code",
   "execution_count": null,
   "id": "3bc2b620-5ac4-4989-9405-5a4062217a6c",
   "metadata": {},
   "outputs": [],
   "source": [
    "sgdr = SGDRegressor(max_iter=1000)\n",
    "sgdr.fit(X_norm, y_train)\n",
    "print(sgdr)\n",
    "print(f\"number of iterations completed: {sgdr.n_iter_}, number of weight updates: {sgdr.t_}\")"
   ]
  },
  {
   "cell_type": "markdown",
   "id": "76355f5e-3e55-4e09-944b-4d1051827981",
   "metadata": {},
   "source": [
    "### view parameters"
   ]
  },
  {
   "cell_type": "code",
   "execution_count": null,
   "id": "b5eb95ec-7087-412e-a83e-c89e32a01de1",
   "metadata": {},
   "outputs": [],
   "source": [
    "b_norm = sgdr.intercept_\n",
    "w_norm = sgdr.coef_\n",
    "print(f\"model parameters:                   w: {w_norm}, b:{b_norm}\")\n"
   ]
  },
  {
   "cell_type": "markdown",
   "id": "5d7d7e3a-07e9-44ec-a0a5-b87412275b73",
   "metadata": {},
   "source": [
    "### make prediction\n"
   ]
  },
  {
   "cell_type": "code",
   "execution_count": null,
   "id": "9d956be3-d730-4a1b-9758-2218b5dfcf04",
   "metadata": {},
   "outputs": [],
   "source": [
    "# make a prediction using sgdr.predict()\n",
    "y_pred_sgd = sgdr.predict(X_norm)\n",
    "# make a prediction using w,b. \n",
    "y_pred = np.dot(X_norm, w_norm) + b_norm  \n",
    "print(f\"prediction using np.dot() and sgdr.predict match: {(y_pred == y_pred_sgd).all()}\")"
   ]
  }
 ],
 "metadata": {
  "kernelspec": {
   "display_name": "Python 3 (ipykernel)",
   "language": "python",
   "name": "python3"
  },
  "language_info": {
   "codemirror_mode": {
    "name": "ipython",
    "version": 3
   },
   "file_extension": ".py",
   "mimetype": "text/x-python",
   "name": "python",
   "nbconvert_exporter": "python",
   "pygments_lexer": "ipython3",
   "version": "3.12.7"
  }
 },
 "nbformat": 4,
 "nbformat_minor": 5
}
